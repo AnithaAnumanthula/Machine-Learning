{
  "nbformat": 4,
  "nbformat_minor": 0,
  "metadata": {
    "colab": {
      "provenance": [],
      "authorship_tag": "ABX9TyN5Zd59JtchBxww6dK/khAx"
    },
    "kernelspec": {
      "name": "python3",
      "display_name": "Python 3"
    },
    "language_info": {
      "name": "python"
    }
  },
  "cells": [
    {
      "cell_type": "code",
      "execution_count": 4,
      "metadata": {
        "colab": {
          "base_uri": "https://localhost:8080/"
        },
        "id": "WXYWkRUBYiVh",
        "outputId": "1076a294-a7d0-4c19-cc35-4fbee0094194"
      },
      "outputs": [
        {
          "output_type": "stream",
          "name": "stdout",
          "text": [
            "The sorted list  : [19, 19, 20, 22, 24, 24, 24, 25, 25, 26]\n",
            "The max age is : 26\n",
            "The min age is : 19\n",
            "sorted list with min and max age added [19, 19, 20, 22, 24, 24, 24, 25, 25, 26, 26, 19]\n",
            "The median value of  list is : 24.0\n",
            "The average value is : 22.75\n",
            "The range  of list is : 7\n"
          ]
        }
      ],
      "source": [
        "# question 1\n",
        "import math\n",
        "\n",
        "ages = [19, 22, 19, 24, 20, 25, 26, 24, 25, 24]\n",
        "# sorting \n",
        "ages.sort()\n",
        "\n",
        "# printing the sorted list\n",
        "print(\"The sorted list  :\",ages)\n",
        "\n",
        "#finding and printing the maximum age \n",
        "print(\"The max age is :\",max(ages))\n",
        "\n",
        "#finding and printing the minimum age\n",
        "print(\"The min age is :\",min(ages))\n",
        "\n",
        "# adding max  age  to list\n",
        "ages.append(max(ages))\n",
        "\n",
        "# adding min age to list\n",
        "ages.append(min(ages))\n",
        "print(\"sorted list with min and max age added\",ages)\n",
        "\n",
        "# newlist with sorted values\n",
        "newlist = sorted(ages)\n",
        "number1 = math.floor(len(newlist))\n",
        "median = (newlist[int(number1/2)] + newlist[int(number1/2)+1])/2\n",
        "print(\"The median value of  list is :\",median)\n",
        "\n",
        "# finding the average age  of list\n",
        "average = sum(newlist)/len(newlist)\n",
        "print(\"The average value is :\",average)\n",
        "\n",
        "# finding the range of list\n",
        "range = max(newlist) - min(newlist)\n",
        "print(\"The range  of list is :\", range)"
      ]
    },
    {
      "cell_type": "code",
      "source": [
        "# question 5\n",
        "\n",
        "# given Radius of circle is 30\n",
        "R = 30 \n",
        "\n",
        "# assign the value to a variable name of area_of_circle\n",
        "area_of_circle = 3.14*R*R\n",
        "print(\"The area of circle is\", area_of_circle)\n",
        "\n",
        "# calculating circumference of circle\n",
        "circum_of_circle = 2*3.14*R\n",
        "print(\"The circumference of circle is\", circum_of_circle)\n",
        "\n",
        "# taking radius as user input and calculating the area of circle\n",
        "r = float(input(\"Enter the radius: \"))\n",
        "area = 3.14*r*r\n",
        "print(\"The area of circle is\", area)\n",
        "     "
      ],
      "metadata": {
        "colab": {
          "base_uri": "https://localhost:8080/"
        },
        "id": "-U9jDg1REIlS",
        "outputId": "ee5e152f-8b55-4f15-a757-9714603c3990"
      },
      "execution_count": 49,
      "outputs": [
        {
          "output_type": "stream",
          "name": "stdout",
          "text": [
            "The area of circle is 2826.0\n",
            "The circumference of circle is 188.4\n",
            "Enter the radius: 7\n",
            "The area of circle is 153.86\n"
          ]
        }
      ]
    },
    {
      "cell_type": "code",
      "source": [
        "# question 6\n",
        "\n",
        "# assigning given string to str\n",
        "str =\"I am a teacher and I love to inspire and teach people\"\n",
        "\n",
        "# storing string in the form of list of words\n",
        "s = set(str.split(\" \"))\n",
        "print(\"Number of unique words\", len(s))\n",
        "     "
      ],
      "metadata": {
        "colab": {
          "base_uri": "https://localhost:8080/"
        },
        "id": "1SjkJySKEQxQ",
        "outputId": "811d6e7f-36b4-475f-d284-dc6efd12b146"
      },
      "execution_count": 52,
      "outputs": [
        {
          "output_type": "stream",
          "name": "stdout",
          "text": [
            "Number of unique words 10\n"
          ]
        }
      ]
    },
    {
      "cell_type": "code",
      "source": [
        "# question 7\n",
        "\n",
        "# printing the below print statement\n",
        "print(\"Name\\tAge\\tCountry\\tCity\\nAsabeneh\\t250\\tFinland\\tHelsinki\")\n",
        "     "
      ],
      "metadata": {
        "colab": {
          "base_uri": "https://localhost:8080/"
        },
        "id": "ylInnJNhEcd-",
        "outputId": "48e2fe30-11eb-44e8-a04d-b9e875118f7b"
      },
      "execution_count": 53,
      "outputs": [
        {
          "output_type": "stream",
          "name": "stdout",
          "text": [
            "Name\tAge\tCountry\tCity\n",
            "Asabeneh\t250\tFinland\tHelsinki\n"
          ]
        }
      ]
    },
    {
      "cell_type": "code",
      "source": [
        "# question 8\n",
        "\n",
        "# Given radius = 10\n",
        "r = 10\n",
        "a = 3.14*r*r\n",
        "\n",
        "#The placeholders can be identified using numbered indexes {0}, or even empty placeholders {} \n",
        "#Inside the placeholders we can add a formatting type to format the result\n",
        "str = \"The area of a circle with radius {} is {} meters square\".format(r,a)\n",
        "print(str)\n",
        "     "
      ],
      "metadata": {
        "colab": {
          "base_uri": "https://localhost:8080/"
        },
        "id": "SOfv3n-6EkdT",
        "outputId": "07501c5b-e533-4155-b828-828804792fdf"
      },
      "execution_count": 54,
      "outputs": [
        {
          "output_type": "stream",
          "name": "stdout",
          "text": [
            "The area of a circle with radius 10 is 314.0 meters square\n"
          ]
        }
      ]
    },
    {
      "cell_type": "code",
      "source": [
        "\n",
        "# question 9\n",
        "\n",
        "\n",
        "w_lb = []\n",
        "w_kg = []\n",
        "\n",
        "# user input to enter the number of students\n",
        "n = int(input(\"Enter number of students:\"))\n",
        "\n",
        "# using for loop\n",
        "\n",
        "for i in range(0, n):\n",
        "    uinp = int(input())\n",
        "    w_lb.append(uinp)\n",
        "\n",
        "    kg = uinp * 0.453592\n",
        "    w_kg.append(kg)\n",
        "print(\"user input\",w_lb)\n",
        "print(w_kg)\n",
        "     "
      ],
      "metadata": {
        "colab": {
          "base_uri": "https://localhost:8080/",
          "height": 252
        },
        "id": "V_kkUzkXEtMX",
        "outputId": "2daa9fe5-7d49-4808-eead-d01927aa5aef"
      },
      "execution_count": 62,
      "outputs": [
        {
          "name": "stdout",
          "output_type": "stream",
          "text": [
            "Enter number of students:2\n"
          ]
        },
        {
          "output_type": "error",
          "ename": "TypeError",
          "evalue": "ignored",
          "traceback": [
            "\u001b[0;31m---------------------------------------------------------------------------\u001b[0m",
            "\u001b[0;31mTypeError\u001b[0m                                 Traceback (most recent call last)",
            "\u001b[0;32m<ipython-input-62-f6fc9ac58836>\u001b[0m in \u001b[0;36m<module>\u001b[0;34m\u001b[0m\n\u001b[1;32m     10\u001b[0m \u001b[0;31m# using for loop\u001b[0m\u001b[0;34m\u001b[0m\u001b[0;34m\u001b[0m\u001b[0;34m\u001b[0m\u001b[0m\n\u001b[1;32m     11\u001b[0m \u001b[0;34m\u001b[0m\u001b[0m\n\u001b[0;32m---> 12\u001b[0;31m \u001b[0;32mfor\u001b[0m \u001b[0mi\u001b[0m \u001b[0;32min\u001b[0m \u001b[0mrange\u001b[0m\u001b[0;34m(\u001b[0m\u001b[0;36m0\u001b[0m\u001b[0;34m,\u001b[0m \u001b[0mn\u001b[0m\u001b[0;34m)\u001b[0m\u001b[0;34m:\u001b[0m\u001b[0;34m\u001b[0m\u001b[0;34m\u001b[0m\u001b[0m\n\u001b[0m\u001b[1;32m     13\u001b[0m     \u001b[0muinp\u001b[0m \u001b[0;34m=\u001b[0m \u001b[0mint\u001b[0m\u001b[0;34m(\u001b[0m\u001b[0minput\u001b[0m\u001b[0;34m(\u001b[0m\u001b[0;34m)\u001b[0m\u001b[0;34m)\u001b[0m\u001b[0;34m\u001b[0m\u001b[0;34m\u001b[0m\u001b[0m\n\u001b[1;32m     14\u001b[0m     \u001b[0mw_lb\u001b[0m\u001b[0;34m.\u001b[0m\u001b[0mappend\u001b[0m\u001b[0;34m(\u001b[0m\u001b[0muinp\u001b[0m\u001b[0;34m)\u001b[0m\u001b[0;34m\u001b[0m\u001b[0;34m\u001b[0m\u001b[0m\n",
            "\u001b[0;31mTypeError\u001b[0m: 'int' object is not callable"
          ]
        }
      ]
    },
    {
      "cell_type": "code",
      "source": [
        "from sklearn.model_selection import train_test_split\n",
        "from sklearn.neighbors import KNeighborsClassifier\n",
        "from sklearn.metrics import confusion_matrix\n",
        "\n",
        "data_points = [[1,0],[2,0],[3,1],[6,1],[6,1],[7,0],[10,0],[11,0]]\n",
        "x = [[1],[2],[3],[6],[6],[7],[10],[11]]\n",
        "y = [0,0,1,1,1,0,0,0]\n",
        "\n",
        "# splitting data\n",
        "data_train, data_test, pred_train, pred_test = train_test_split(x,y, test_size=0.5, random_state=33)\n",
        "\n",
        "print(data_train, data_test, pred_train, pred_test)\n",
        "     "
      ],
      "metadata": {
        "colab": {
          "base_uri": "https://localhost:8080/"
        },
        "id": "uDKLQI3IFKNH",
        "outputId": "5facdd75-26a4-40de-81c2-bb1d072423ac"
      },
      "execution_count": 57,
      "outputs": [
        {
          "output_type": "stream",
          "name": "stdout",
          "text": [
            "[[7], [3], [1], [6]] [[10], [11], [6], [2]] [0, 1, 0, 1] [0, 0, 1, 0]\n"
          ]
        }
      ]
    },
    {
      "cell_type": "code",
      "source": [
        "# question 2\n",
        "\n",
        "# creating an empty dictionary called dog\n",
        "dog={}\n",
        "print(\"created empty dictionary\", dog)\n",
        "\n",
        "# creating key:value pairs for dog dictionary\n",
        "dog={\n",
        "    \"name\":  \"Stephie\",\n",
        "    \"colour\":\"pink\",\n",
        "    \"breed\": \"husky\",\n",
        "    \"legs\":  \"white\",\n",
        "    \"age\":   8\n",
        "}\n",
        "print(\"The dog dictionary contains :\",dog)\n",
        "\n",
        "# creating a student dictionary with key:value pairs\n",
        "student={\n",
        "    \"first_name\" :\"Anitha \",\n",
        "    \"last_name\"  :\"Anumanthula\",\n",
        "    \"gender\"     :\"Female\",\n",
        "    \"age\"        :\"24\",\n",
        "    \"martial status\":\"single\",\n",
        "    \"skills\" : [\"python\",\"java\"],\n",
        "    \"country\"    :\"India\",\n",
        "    \"city\"       :\"Hyderabad\",\n",
        "    \"address\"    :\"6-654/5,hyderabad\"\n",
        "}\n",
        "print(\"The student dictionary contains :\",student)\n",
        "\n",
        "# printing the length of student\n",
        "print(\"The length of student dictionary is\",len(student))\n",
        "\n",
        "# printing the value of skills and checking the data type\n",
        "if type(student['skills'])==list:\n",
        "      print(\"true skills is the  type of list \")\n",
        "else:print(type(student['skills']))\n",
        "print(\"before modifying skill set:\",student['skills'],sep=\"\\t\", end=\"\\n\")\n",
        "\n",
        "\"modifying skill set  \"\n",
        "student['skills'][-1]=\"c++\"\n",
        "\n",
        "\"after modifying skill set  \"\n",
        "\n",
        "print(\"after modifying skill set:\",student['skills'],sep=\"\\t\", end=\"\\n\\n\")\n",
        "\n",
        "\n",
        "\n",
        "\n",
        "# printing the dictionary keys\n",
        "k=student.keys()\n",
        "print(k)\n",
        "\n",
        "# printing the dictionary values\n",
        "v=student.values()\n",
        "print(v)\n",
        "     "
      ],
      "metadata": {
        "colab": {
          "base_uri": "https://localhost:8080/"
        },
        "id": "fJQ_ET3_duUw",
        "outputId": "17e77a0f-27c6-410f-fa8b-9b627bb33dd9"
      },
      "execution_count": 33,
      "outputs": [
        {
          "output_type": "stream",
          "name": "stdout",
          "text": [
            "created empty dictionary {}\n",
            "The dog dictionary contains : {'name': 'Stephie', 'colour': 'pink', 'breed': 'husky', 'legs': 'white', 'age': 8}\n",
            "The student dictionary contains : {'first_name': 'Anitha ', 'last_name': 'Anumanthula', 'gender': 'Female', 'age': '24', 'martial status': 'single', 'skills': ['python', 'java'], 'country': 'India', 'city': 'Hyderabad', 'address': '6-654/5,hyderabad'}\n",
            "The length of student dictionary is 9\n",
            "true skills is the  type of list \n",
            "before modifying skill set:\t['python', 'java']\n",
            "after modifying skill set:\t['python', 'c++']\n",
            "\n",
            "dict_keys(['first_name', 'last_name', 'gender', 'age', 'martial status', 'skills', 'country', 'city', 'address'])\n",
            "dict_values(['Anitha ', 'Anumanthula', 'Female', '24', 'single', ['python', 'c++'], 'India', 'Hyderabad', '6-654/5,hyderabad'])\n"
          ]
        }
      ]
    },
    {
      "cell_type": "code",
      "source": [
        "# question 3\n",
        "\n",
        "# Create a tuple containing names of brothers\n",
        "brothers = (\"anit\",\"prabha\")\n",
        "print(\"My brothers \", brothers)\n",
        "\n",
        "# Create a tuple containing names of sisters\n",
        "sisters = (\"latha\",\"rani\")\n",
        "print(\"My sisters \", sisters)\n",
        "\n",
        "# assigning brothers and sisters to siblings tuple\n",
        "siblings = brothers + sisters\n",
        "print(\"My siblings \", siblings)\n",
        "\n",
        "# printing the length of tuple\n",
        "print(f\"count of siblings :{len(siblings)}\")\n",
        "\n",
        "# adding siblings, father and mother names to family_members tuple\n",
        "family_members = siblings + (\"hanu\",\"marima\")\n",
        "print(\"family members are \",family_members)"
      ],
      "metadata": {
        "colab": {
          "base_uri": "https://localhost:8080/"
        },
        "id": "AiY-CO0WtEyk",
        "outputId": "19bcf43a-27a0-4c52-df60-18b887fb3d0e"
      },
      "execution_count": 38,
      "outputs": [
        {
          "output_type": "stream",
          "name": "stdout",
          "text": [
            "My brothers  ('anit', 'prabha')\n",
            "My sisters  ('latha', 'rani')\n",
            "My siblings  ('anit', 'prabha', 'latha', 'rani')\n",
            "count of siblings :4\n",
            "family members are  ('anit', 'prabha', 'latha', 'rani', 'hanu', 'marima')\n"
          ]
        }
      ]
    },
    {
      "cell_type": "code",
      "source": [
        "# question 4\n",
        "\n",
        "it_companies = {'Facebook', 'Google', 'Microsoft', 'Apple', 'IBM', 'Oracle', 'Amazon'}\n",
        "A = {19, 22, 24, 20, 25, 26}\n",
        "B = {19, 22, 20, 25, 26, 24, 28, 27}\n",
        "age = [22, 19, 24, 25, 26, 24, 25, 24]\n",
        "\n",
        "# length of it_companies\n",
        "print(\"The length of set is :\",len(it_companies))\n",
        "\n",
        "# adding Twitter to it_companies\n",
        "it_companies.add(\"Twitter\")\n",
        "print(\"Added Twitter :\", it_companies)\n",
        "\n",
        "# inserting multiple companies \n",
        "it_companies.update({\"Accenture\",\"TCS\",\"Virtusa\"})\n",
        "print(\"Updated IT companies are :\", it_companies)\n",
        "\n",
        "# removing capital one from it_companies\n",
        "it_companies.discard(\"TCS\")\n",
        "print(\"Company tcs  removed from set\",it_companies)\n",
        "\n",
        "# union of A and B\n",
        "C = A.union(B)\n",
        "print(\"The union of A and B:\",C)\n",
        "\n",
        "# intersection of A and B\n",
        "X = A.intersection(B)\n",
        "print(\"The intersection of A and B:\",X)\n",
        "\n",
        "# subset of A and B\n",
        "if A.issubset(B):\n",
        " print(\" YES ,A is subset of B\")\n",
        "else:print(\"NO ,A is  not subset of B\")\n",
        "if A.isdisjoint(B):\n",
        " print(\" YES ,A is disjoint of B\")\n",
        "else:print(\"NO ,A is  not disjoint of B\")\n",
        "\n",
        "print(\"The joining of A and B:\",A.union(B),sep=\" \")\n",
        "\n",
        "print(\"The joining of B and A:\",B.union(A),sep=\" \")\n",
        "print(\"The symmetric difference between  A and B:\",A.symmetric_difference(B))\n",
        "A.clear()\n",
        "B.clear()\n",
        "print(\"after  clearing element :\",A,B, sep=\"\\n\")\n",
        "age= [22, 19, 24, 25, 26, 24, 25, 24]\n",
        "# printing the length of age list\n",
        "\n",
        "\n",
        "length_age=len(age)\n",
        "print(\" length of age:\",length_age)\n",
        "\n",
        "\n",
        "# printing the len of age set \n",
        "age=set(age)\n",
        "length_age_set=len(age)\n",
        "print(\" length of set:\",length_age_set)\n",
        "\n",
        "# comparing the length of list and set\n",
        "print(\"compare the length\",length_age ==length_age_set)\n",
        "print()\n",
        "\n",
        "\n",
        "     \n",
        "     "
      ],
      "metadata": {
        "colab": {
          "base_uri": "https://localhost:8080/"
        },
        "id": "-bYxWpktt3mo",
        "outputId": "bea08dc5-5b71-4476-ea91-533fd90de8c5"
      },
      "execution_count": 48,
      "outputs": [
        {
          "output_type": "stream",
          "name": "stdout",
          "text": [
            "The length of set is : 7\n",
            "Added Twitter : {'Microsoft', 'Amazon', 'Oracle', 'Apple', 'Google', 'Twitter', 'Facebook', 'IBM'}\n",
            "Updated IT companies are : {'Microsoft', 'Amazon', 'Oracle', 'Apple', 'Google', 'Twitter', 'Facebook', 'Virtusa', 'IBM', 'TCS', 'Accenture'}\n",
            "Company tcs  removed from set {'Microsoft', 'Amazon', 'Oracle', 'Apple', 'Google', 'Twitter', 'Facebook', 'Virtusa', 'IBM', 'Accenture'}\n",
            "The union of A and B: {19, 20, 22, 24, 25, 26, 27, 28}\n",
            "The intersection of A and B: {19, 20, 22, 24, 25, 26}\n",
            " YES ,A is subset of B\n",
            "NO ,A is  not disjoint of B\n",
            "The joining of A and B: {19, 20, 22, 24, 25, 26, 27, 28}\n",
            "The joining of B and A: {19, 20, 22, 24, 25, 26, 27, 28}\n",
            "The symmetric difference between  A and B: {27, 28}\n",
            "after  clearing element :\n",
            "set()\n",
            "set()\n",
            " length of age: 8\n",
            " length of set: 5\n",
            "compare the length False\n",
            "\n"
          ]
        }
      ]
    },
    {
      "cell_type": "code",
      "source": [
        "# question 4\n",
        "\n",
        "it_companies = {'Facebook', 'Google', 'Microsoft', 'Apple', 'IBM', 'Oracle', 'Amazon'}\n",
        "A = {19, 22, 24, 20, 25, 26}\n",
        "B = {19, 22, 20, 25, 26, 24, 28, 27}\n",
        "age = [22, 19, 24, 25, 26, 24, 25, 24]\n",
        "\n",
        "# length of it_companies\n",
        "print(\"The length of set is :\",len(it_companies))\n",
        "\n",
        "# adding Twitter to it_companies\n",
        "it_companies.add(\"Twitter\")\n",
        "print(\"Added Twitter :\", it_companies)\n",
        "\n",
        "# inserting multiple companies \n",
        "it_companies.update({\"Accenture\",\"TCS\",\"Virtusa\"})\n",
        "print(\"Updated IT companies are :\", it_companies)\n",
        "\n",
        "# removing capital one from it_companies\n",
        "it_companies.discard(\"TCS\")\n",
        "print(\"Company tcs  removed from set\",it_companies)\n",
        "\n",
        "# union of A and B\n",
        "C = A.union(B)\n",
        "print(\"The union of A and B\",C)\n",
        "\n",
        "# intersection of A and B\n",
        "X = A.intersection(B)\n",
        "print(\"The intersection of A and B\",X)\n",
        "\n",
        "# subset of A and B\n",
        "if A.issubset(B):\n",
        " print(\" YES ,A is subset of B\")\n",
        "else:print(\"NO ,A is  not subset of B\")\n",
        "if A.isdisjoint(B):\n",
        " print(\" YES ,A is disjoint of B\")\n",
        "else:print(\"NO ,A is  not disjoint of B\")\n",
        "\n",
        "print(\"The joining of A and B:\",A.union(B),sep=\" \")\n",
        "\n",
        "print(\"The joining of B and A:\",B.union(A),sep=\" \")\n",
        "print(\"The symmetric difference between  A and B:\",A.symmetric_difference(B))\n",
        "A.clear()\n",
        "B.clear()\n",
        "print(\"after  clearing element :\",A,B, sep=\"\\n\")\n",
        "age= [22, 19, 24, 25, 26, 24, 25, 24]\n",
        "# printing the length of age list\n",
        "\n",
        "\n",
        "length_age=len(age)\n",
        "print(\"the length of age list:\",length_age)\n",
        "\n",
        "\n",
        "# printing the len of age set \n",
        "age=set(age)\n",
        "length_age_set=len(age)\n",
        "print(\"set:\",length_age_set)\n",
        "\n",
        "# comparing the length of list and set\n",
        "print(\"compare the length\", length_age==length_age_set)\n",
        "\n",
        "\n",
        "\n",
        "     \n",
        "     "
      ],
      "metadata": {
        "colab": {
          "base_uri": "https://localhost:8080/"
        },
        "outputId": "1059e9d3-aae8-4922-d310-29d395f07067",
        "id": "Vzqc6xIHAGHq"
      },
      "execution_count": 46,
      "outputs": [
        {
          "output_type": "stream",
          "name": "stdout",
          "text": [
            "The length of set is : 7\n",
            "Added Twitter : {'Microsoft', 'Amazon', 'Oracle', 'Apple', 'Google', 'Twitter', 'Facebook', 'IBM'}\n",
            "Updated IT companies are : {'Microsoft', 'Amazon', 'Oracle', 'Apple', 'Google', 'Twitter', 'Facebook', 'Virtusa', 'IBM', 'TCS', 'Accenture'}\n",
            "Company tcs  removed from set {'Microsoft', 'Amazon', 'Oracle', 'Apple', 'Google', 'Twitter', 'Facebook', 'Virtusa', 'IBM', 'Accenture'}\n",
            "The union of A and B {19, 20, 22, 24, 25, 26, 27, 28}\n",
            "The intersection of A and B {19, 20, 22, 24, 25, 26}\n",
            " YES ,A is subset of B\n",
            "NO ,A is  not disjoint of B\n",
            "The joining of A and B: {19, 20, 22, 24, 25, 26, 27, 28}\n",
            "The joining of B and A: {19, 20, 22, 24, 25, 26, 27, 28}\n",
            "The symmetric difference between  A and B: {27, 28}\n",
            "after  clearing element :\n",
            "set()\n",
            "set()\n",
            "the length of age list: 8\n",
            "set: 5\n",
            "compare the length False\n"
          ]
        }
      ]
    }
  ]
}