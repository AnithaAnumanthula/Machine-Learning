{
  "nbformat": 4,
  "nbformat_minor": 0,
  "metadata": {
    "colab": {
      "provenance": [],
      "toc_visible": true,
      "authorship_tag": "ABX9TyNKwzJ3mmrjmnOrN3V67VeF"
    },
    "kernelspec": {
      "name": "python3",
      "display_name": "Python 3"
    },
    "language_info": {
      "name": "python"
    }
  },
  "cells": [
    {
      "cell_type": "code",
      "execution_count": null,
      "metadata": {
        "id": "WXYWkRUBYiVh"
      },
      "outputs": [],
      "source": [
        "# question 1\n",
        "import math\n",
        "\n",
        "ages = [19, 22, 19, 24, 20, 25, 26, 24, 25, 24]\n",
        "# sorting \n",
        "ages.sort()\n",
        "\n",
        "# printing the sorted list\n",
        "print(\"The sorted list  :\",ages)\n",
        "\n",
        "#finding and printing the maximum age \n",
        "print(\"The max age is :\",max(ages))\n",
        "\n",
        "#finding and printing the minimum age\n",
        "print(\"The min age is :\",min(ages))\n",
        "\n",
        "# adding max  age  to list\n",
        "ages.append(max(ages))\n",
        "\n",
        "# adding min age to list\n",
        "ages.append(min(ages))\n",
        "print(\"sorted list with min and max age added\",ages)\n",
        "\n",
        "# newlist with sorted values\n",
        "newlist = sorted(ages)\n",
        "number1 = math.floor(len(newlist))\n",
        "median = (newlist[int(number1/2)] + newlist[int(number1/2)+1])/2\n",
        "print(\"The median value of  list is :\",median)\n",
        "\n",
        "# finding the average age  of list\n",
        "average = sum(newlist)/len(newlist)\n",
        "print(\"The average value is :\",average)\n",
        "\n",
        "# finding the range of list\n",
        "range = max(newlist) - min(newlist)\n",
        "print(\"The range  of list is :\", range)"
      ]
    },
    {
      "cell_type": "code",
      "source": [
        "# question 2\n",
        "\n",
        "# creating an empty dictionary called dog\n",
        "dog={}\n",
        "print(\"created empty dictionary\", dog)\n",
        "\n",
        "# creating key:value pairs for dog dictionary\n",
        "dog={\n",
        "    \"name\":  \"Stephie\",\n",
        "    \"colour\":\"pink\",\n",
        "    \"breed\": \"husky\",\n",
        "    \"legs\":  \"white\",\n",
        "    \"age\":   8\n",
        "}\n",
        "print(\"The dog dictionary contains :\",dog)\n",
        "\n",
        "# creating a student dictionary with key:value pairs\n",
        "student={\n",
        "    \"first_name\" :\"Anitha \",\n",
        "    \"last_name\"  :\"Anumanthula\",\n",
        "    \"gender\"     :\"Female\",\n",
        "    \"age\"        :\"24\",\n",
        "    \"martial status\":\"single\",\n",
        "    \"skills\" : [\"python\",\"java\"],\n",
        "    \"country\"    :\"India\",\n",
        "    \"city\"       :\"Hyderabad\",\n",
        "    \"address\"    :\"6-654/5,hyderabad\"\n",
        "}\n",
        "print(\"The student dictionary contains :\",student)\n",
        "\n",
        "# printing the length of student\n",
        "print(\"The length of student dictionary is\",len(student))\n",
        "\n",
        "# printing the value of skills and checking the data type\n",
        "if type(student['skills'])==list:\n",
        "      print(\"true skills is the  type of list \")\n",
        "else:print(type(student['skills']))\n",
        "print(\"before modifying skill set:\",student['skills'],sep=\"\\t\", end=\"\\n\")\n",
        "\n",
        "\"modifying skill set  \"\n",
        "student['skills'][-1]=\"c++\"\n",
        "\n",
        "\"after modifying skill set  \"\n",
        "\n",
        "print(\"after modifying skill set:\",student['skills'],sep=\"\\t\", end=\"\\n\\n\")\n",
        "\n",
        "\n",
        "\n",
        "\n",
        "# printing the dictionary keys\n",
        "k=student.keys()\n",
        "print(k)\n",
        "\n",
        "# printing the dictionary values\n",
        "v=student.values()\n",
        "print(v)\n",
        "     "
      ],
      "metadata": {
        "id": "fJQ_ET3_duUw"
      },
      "execution_count": null,
      "outputs": []
    },
    {
      "cell_type": "code",
      "source": [
        "# question 3\n",
        "\n",
        "# Create a tuple containing names of brothers\n",
        "brothers = (\"anit\",\"prabha\")\n",
        "print(\"My brothers \", brothers)\n",
        "\n",
        "# Create a tuple containing names of sisters\n",
        "sisters = (\"latha\",\"rani\")\n",
        "print(\"My sisters \", sisters)\n",
        "\n",
        "# assigning brothers and sisters to siblings tuple\n",
        "siblings = brothers + sisters\n",
        "print(\"My siblings \", siblings)\n",
        "\n",
        "# printing the length of tuple\n",
        "print(f\"count of siblings :{len(siblings)}\")\n",
        "\n",
        "# adding siblings, father and mother names to family_members tuple\n",
        "family_members = siblings + (\"hanu\",\"marima\")\n",
        "print(\"family members are \",family_members)"
      ],
      "metadata": {
        "id": "AiY-CO0WtEyk"
      },
      "execution_count": null,
      "outputs": []
    },
    {
      "cell_type": "code",
      "source": [
        "# question 4\n",
        "\n",
        "it_companies = {'Facebook', 'Google', 'Microsoft', 'Apple', 'IBM', 'Oracle', 'Amazon'}\n",
        "A = {19, 22, 24, 20, 25, 26}\n",
        "B = {19, 22, 20, 25, 26, 24, 28, 27}\n",
        "age = [22, 19, 24, 25, 26, 24, 25, 24]\n",
        "\n",
        "# length of it_companies\n",
        "print(\"The length of set is :\",len(it_companies))\n",
        "\n",
        "# adding Twitter to it_companies\n",
        "it_companies.add(\"Twitter\")\n",
        "print(\"Added Twitter :\", it_companies)\n",
        "\n",
        "# inserting multiple companies \n",
        "it_companies.update({\"Accenture\",\"TCS\",\"Virtusa\"})\n",
        "print(\"Updated IT companies are :\", it_companies)\n",
        "\n",
        "# removing capital one from it_companies\n",
        "it_companies.discard(\"TCS\")\n",
        "print(\"Company tcs  removed from set :\",it_companies)\n",
        "\n",
        "# union of A and B\n",
        "C = A.union(B)\n",
        "print(\"The union of A and B :\",C)\n",
        "\n",
        "# intersection of A and B\n",
        "X = A.intersection(B)\n",
        "print(\"The intersection of A and B:\",X)\n",
        "\n",
        "# subset of A and B\n",
        "if A.issubset(B):\n",
        " print(\" YES ,A is subset of B\")\n",
        "else:print(\"NO ,A is  not subset of B\")\n",
        "if A.isdisjoint(B):\n",
        " print(\" YES ,A is disjoint of B\")\n",
        "else:print(\"NO ,A is  not disjoint of B\")\n",
        "\n",
        "print(\"The joining of A and B:\",A.union(B),sep=\" \")\n",
        "\n",
        "print(\"The joining of B and A:\",B.union(A),sep=\" \")\n",
        "print(\"The symmetric difference between  A and B:\",A.symmetric_difference(B))\n",
        "A.clear()\n",
        "B.clear()\n",
        "print(\"after  clearing element :\",A,B, sep=\"\\n\")\n",
        "age= [22, 19, 24, 25, 26, 24, 25, 24]\n",
        "# printing the length of age list\n",
        "\n",
        "\n",
        "length_age=len(age)\n",
        "print(\"the length of age list:\",length_age)\n",
        "\n",
        "\n",
        "# printing the len of age set \n",
        "age=set(age)\n",
        "length_age_set=len(age)\n",
        "print(\"the length of set:\",length_age_set)\n",
        "\n",
        "# comparing the length of list and set\n",
        "print(\"compare the length of the list and the set:\", length_age==length_age_set)\n",
        "\n",
        "\n",
        "\n",
        "     \n",
        "     "
      ],
      "metadata": {
        "id": "Vzqc6xIHAGHq"
      },
      "execution_count": null,
      "outputs": []
    },
    {
      "cell_type": "code",
      "source": [
        "# question 5\n",
        "\n",
        "# given Radius of circle is 30\n",
        "R = 30 \n",
        "\n",
        "# assign the value to a variable name of area_of_circle\n",
        "area_of_circle = 3.14*R*R\n",
        "print(\"The area of circle is\", area_of_circle)\n",
        "\n",
        "# calculating circumference of circle\n",
        "circum_of_circle = 2*3.14*R\n",
        "print(\"The circumference of circle is\", circum_of_circle)\n",
        "\n",
        "# taking radius as user input and calculating the area of circle\n",
        "r = float(input(\"Enter the radius: \"))\n",
        "area = 3.14*r*r\n",
        "print(\"The area of circle is\", area)\n",
        "     "
      ],
      "metadata": {
        "colab": {
          "base_uri": "https://localhost:8080/"
        },
        "id": "-U9jDg1REIlS",
        "outputId": "dc58eeb8-5464-4eec-fe64-91f6cf927aa3"
      },
      "execution_count": null,
      "outputs": [
        {
          "output_type": "stream",
          "name": "stdout",
          "text": [
            "The area of circle is 2826.0\n",
            "The circumference of circle is 188.4\n",
            "Enter the radius: 7\n",
            "The area of circle is 153.86\n"
          ]
        }
      ]
    },
    {
      "cell_type": "code",
      "source": [
        "# question 6\n",
        "\n",
        "# assigning given string to str\n",
        "str =\"I am a teacher and I love to inspire and teach people\"\n",
        "\n",
        "# storing string in the form of list of words\n",
        "s = set(str.split(\" \"))\n",
        "print(\"Number of unique words\", len(s))\n",
        "     "
      ],
      "metadata": {
        "colab": {
          "base_uri": "https://localhost:8080/"
        },
        "id": "1SjkJySKEQxQ",
        "outputId": "1e4daa69-9317-4afa-9b7c-430cb2a2adef"
      },
      "execution_count": 5,
      "outputs": [
        {
          "output_type": "stream",
          "name": "stdout",
          "text": [
            "Number of unique words 10\n"
          ]
        }
      ]
    },
    {
      "cell_type": "code",
      "source": [
        "# question 7\n",
        "\n",
        "# printing the below print statement\n",
        "print(\"Name\\tAge\\tCountry\\tCity\\nAsabeneh\\t250\\tFinland\\tHelsinki\")\n",
        "     "
      ],
      "metadata": {
        "id": "ylInnJNhEcd-",
        "colab": {
          "base_uri": "https://localhost:8080/"
        },
        "outputId": "bb33fb42-bdfe-434f-d647-644ff0905770"
      },
      "execution_count": 6,
      "outputs": [
        {
          "output_type": "stream",
          "name": "stdout",
          "text": [
            "Name\tAge\tCountry\tCity\n",
            "Asabeneh\t250\tFinland\tHelsinki\n"
          ]
        }
      ]
    },
    {
      "cell_type": "code",
      "source": [
        "# question 8\n",
        "\n",
        "# Given radius = 10\n",
        "r = 10\n",
        "a = 3.14*r*r\n",
        "\n",
        "#The placeholders can be identified using numbered indexes {0}, or even empty placeholders {} \n",
        "#Inside the placeholders we can add a formatting type to format the result\n",
        "str = \"The area of a circle with radius {} is {} meters square\".format(r,a)\n",
        "print(str)\n",
        "     "
      ],
      "metadata": {
        "colab": {
          "base_uri": "https://localhost:8080/"
        },
        "id": "SOfv3n-6EkdT",
        "outputId": "584a66e1-8974-42d1-ceb3-a8a365505d50"
      },
      "execution_count": 1,
      "outputs": [
        {
          "output_type": "stream",
          "name": "stdout",
          "text": [
            "The area of a circle with radius 10 is 314.0 meters square\n"
          ]
        }
      ]
    },
    {
      "cell_type": "code",
      "source": [
        "\n",
        "# question 9\n",
        "\n",
        "# Write a program, which reads weights (lbs.) of N students into a list and convert these weights to kilograms in a separate list using Loop. N: No of students (Read input from user)\n",
        "w_lb = []\n",
        "w_kg = []\n",
        "# user input to enter the number of students\n",
        "\n",
        "n1 = int(input(\"Enter number of students:\"))\n",
        "\n",
        "# using for loop\n",
        "\n",
        "for i in range(0, n1):\n",
        "    uinp = int(input())\n",
        "    w_lb.append(uinp)\n",
        "\n",
        "    kg = uinp * 0.453592\n",
        "    w_kg.append(kg)\n",
        "print(\"user input\",w_lb)\n",
        "print(w_kg)\n",
        "     \n"
      ],
      "metadata": {
        "id": "V_kkUzkXEtMX"
      },
      "execution_count": null,
      "outputs": []
    },
    {
      "cell_type": "code",
      "source": [
        "# question 10\n",
        "\n",
        "# The diagram below shows a dataset with 2 classes and 8 data points, each with only one feature value, labeled f. Note that there are two data points with the same feature value of 9. These are shown as two x's one above the other.\n",
        "# Divide this data equally into two parts. Use first part as training and second part as testing. Using KNN classifier, for K = 3, what would be the predicted outputs for the test sample? Show how you arrived at your answer.\n",
        "x = [1, 2, 3, 6, 6, 7, 10, 11]\n",
        "data = [1, 1, 0, 0, 0, 1, 1, 1]\n",
        "first = [0, 1, 2, 3]\n",
        "second = [4, 5, 6, 7]\n",
        "\n",
        "from sklearn.neighbors import KNeighborsRegressor\n",
        "regressor = KNeighborsRegressor(n_neighbors=3)\n",
        "x_train = [[x[t]] for t in first]\n",
        "y_train = [[data[t]] for t in first]\n",
        "regressor.fit(x_train, y_train)\n",
        "x_test = [[x[t]] for t in second]\n",
        "y_test = [[data[t]] for t in second]\n",
        "y_pred = regressor.predict(x_test)\n",
        "y_ = []\n",
        "for i in range(len(y_pred)):\n",
        "\tif y_pred[0] > 0.1:\n",
        "\t\ty_.append(1)\n",
        "\telse:\n",
        "\t\ty_.append(0)\n",
        "print(\"Predict value: \")\n",
        "print(y_)\n",
        "\n",
        "# Compute the confusion matrix for this and calculate accuracy, sensitivity and specificity values.\n",
        "from sklearn.metrics import confusion_matrix\n",
        "from sklearn.metrics import accuracy_score\n",
        "conf = confusion_matrix(y_, y_test)\n",
        "print(\"Confusion Matrix\")\n",
        "print(conf)\n",
        "\n",
        "accuracy = accuracy_score(y_, y_test)\n",
        "print(\"Accuracy: \", accuracy)\n",
        "\n",
        "sensetivity = conf[0][0]/(conf[0][0] + conf[0][1])\n",
        "print(\"Sensitivity: \", sensetivity)\n",
        "\n",
        "specificity = conf[0][0]/(conf[0][0] + conf[1][0])\n",
        "print(\"Specificity: \", specificity)\n"
      ],
      "metadata": {
        "colab": {
          "base_uri": "https://localhost:8080/"
        },
        "id": "uDKLQI3IFKNH",
        "outputId": "d6252d30-f6aa-4be9-9e03-b7c4321e01f6"
      },
      "execution_count": null,
      "outputs": [
        {
          "output_type": "stream",
          "name": "stdout",
          "text": [
            "Predict value: \n",
            "[1, 1, 1, 1]\n",
            "Confusion Matrix\n",
            "[[0 0]\n",
            " [1 3]]\n",
            "Accuracy:  0.75\n",
            "Sensitivity:  nan\n",
            "Specificity:  0.0\n"
          ]
        },
        {
          "output_type": "stream",
          "name": "stderr",
          "text": [
            "<ipython-input-2-839ffcade2a2>:37: RuntimeWarning: invalid value encountered in long_scalars\n",
            "  sensetivity = conf[0][0]/(conf[0][0] + conf[0][1])\n"
          ]
        }
      ]
    }
  ]
}